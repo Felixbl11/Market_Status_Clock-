{
 "cells": [
  {
   "cell_type": "markdown",
   "id": "0b18576c-1116-43e4-8b3d-adbaa8198cc6",
   "metadata": {},
   "source": [
    "**First Step**\n",
    "Import Libraries\n"
   ]
  },
  {
   "cell_type": "code",
   "execution_count": 8,
   "id": "d3d9aff0-d32a-45d9-bf3d-00492768c764",
   "metadata": {},
   "outputs": [
    {
     "name": "stdout",
     "output_type": "stream",
     "text": [
      "Market Status: {'afterHours': False, 'market': 'closed', 's_and_p': 'closed', 'nasdaq': 'closed', 'dow_jones': 'closed', 'ftse_russell': 'closed', 'closure_reason': 'Weekend'}\n",
      "Upcoming Market Holidays in the next 30 days :\n",
      "Thanksgiving on 2024-11-28 (Exchange: NASDAQ)\n",
      "Thanksgiving on 2024-11-28 (Exchange: NYSE)\n"
     ]
    }
   ],
   "source": [
    "import requests\n",
    "from datetime import datetime, timedelta\n",
    "from config import API_KEY\n",
    "\n",
    "# API URLs\n",
    "market_status_url = f'https://api.polygon.io/v1/marketstatus/now?apiKey={API_KEY}'\n",
    "market_holiday_url = f'https://api.polygon.io/v1/marketstatus/upcoming?apiKey={API_KEY}'\n",
    "\n",
    "def market_open_closed():\n",
    "    response = requests.get(market_status_url)\n",
    "    data = response.json()\n",
    "\n",
    "    market_closed = data['market'] == 'closed'\n",
    "    market_close_reason = \"\"\n",
    "\n",
    "    if market_closed:\n",
    "        today = datetime.now()\n",
    "        if today.weekday() in [5, 6]: \n",
    "            market_close_reason = \"Weekend\"\n",
    "        else:\n",
    "            holidays = market_holiday() \n",
    "            holiday_names = [holiday['name'] for holiday in holidays if holiday['status'] == 'closed']\n",
    "            if holiday_names:\n",
    "                market_close_reason = f\"The market is closed due to holiday(s): {', '.join(holiday_names)}.\"\n",
    "          \n",
    "\n",
    "    filtered_data = {\n",
    "        'afterHours': data.get('afterHours', 'N/A'),\n",
    "        'market': data.get('market', 'N/A'),\n",
    "        's_and_p': data['indicesGroups'].get('s_and_p', 'N/A'),\n",
    "        'nasdaq': data['indicesGroups'].get('nasdaq', 'N/A'),\n",
    "        'dow_jones': data['indicesGroups'].get('dow_jones', 'N/A'),\n",
    "        'ftse_russell': data['indicesGroups'].get('ftse_russell', 'N/A'),\n",
    "        'closure_reason': market_close_reason\n",
    "    }\n",
    "    \n",
    "    return filtered_data\n",
    "\n",
    "def market_holiday():\n",
    "    response = requests.get(market_holiday_url)\n",
    "    data = response.json()\n",
    "    return data\n",
    "\n",
    "def next_holiday():\n",
    "    holidays = market_holiday()\n",
    "    today = datetime.now()\n",
    "    next_month_date = today + timedelta(days=30)  \n",
    "    upcoming = []\n",
    "\n",
    "    for holiday in holidays:\n",
    "        holiday_date = datetime.strptime(holiday['date'], '%Y-%m-%d')  \n",
    "        if holiday['status'] == 'closed' and today <= holiday_date <= next_month_date:\n",
    "            upcoming.append(holiday)\n",
    "\n",
    "    return upcoming\n",
    "\n",
    "def get_market_status():\n",
    "    market_status = market_open_closed()\n",
    "    upcoming_holidays = next_holiday()\n",
    "    return market_status, upcoming_holidays\n",
    "\n",
    "\n",
    "market_status, next_holidays = get_market_status()\n",
    "print(\"Market Status:\", market_status)\n",
    "if next_holidays:\n",
    "    print(\"Upcoming Market Holidays in the next 30 days :\")\n",
    "    for holiday in next_holidays:\n",
    "        print(f\"{holiday['name']} on {holiday['date']} (Exchange: {holiday['exchange']})\")\n",
    "else:\n",
    "    print(\"No upcoming holidays within the next month.\")\n",
    "\n",
    "\n"
   ]
  },
  {
   "cell_type": "code",
   "execution_count": null,
   "id": "82e51628-315a-40eb-bc14-dcd2e8b1a054",
   "metadata": {},
   "outputs": [],
   "source": []
  }
 ],
 "metadata": {
  "kernelspec": {
   "display_name": "Python 3 (ipykernel)",
   "language": "python",
   "name": "python3"
  },
  "language_info": {
   "codemirror_mode": {
    "name": "ipython",
    "version": 3
   },
   "file_extension": ".py",
   "mimetype": "text/x-python",
   "name": "python",
   "nbconvert_exporter": "python",
   "pygments_lexer": "ipython3",
   "version": "3.12.1"
  }
 },
 "nbformat": 4,
 "nbformat_minor": 5
}
